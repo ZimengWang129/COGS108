{
 "cells": [
  {
   "cell_type": "markdown",
   "metadata": {},
   "source": [
    "* conda cheat sheet \n",
    "* !excercise conda environment \n",
    "* \"\n",
    "* codna create -- clone base -- name temp \n",
    "* conda activate name \n",
    "* pip install hdf5storage \n",
    "* \"\n",
    "* clear the terminal: clear or control + L"
   ]
  },
  {
   "cell_type": "markdown",
   "metadata": {},
   "source": [
    "the sitmulus; the signal; the response \n"
   ]
  },
  {
   "cell_type": "markdown",
   "metadata": {},
   "source": []
  }
 ],
 "metadata": {
  "kernelspec": {
   "display_name": "Python 3.9.6 64-bit",
   "language": "python",
   "name": "python3"
  },
  "language_info": {
   "name": "python",
   "version": "3.9.6"
  },
  "orig_nbformat": 4,
  "vscode": {
   "interpreter": {
    "hash": "31f2aee4e71d21fbe5cf8b01ff0e069b9275f58929596ceb00d14d90e3e16cd6"
   }
  }
 },
 "nbformat": 4,
 "nbformat_minor": 2
}
