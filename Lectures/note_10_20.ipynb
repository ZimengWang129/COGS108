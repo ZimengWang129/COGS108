{
 "cells": [
  {
   "cell_type": "markdown",
   "metadata": {},
   "source": [
    "* norm the founction: take any length of any dimention and return the distance \n",
    "* the dot product: propotional to the cosine of the angle between two vectors \n",
    "* xy = x1y1=x2y2 = ||x|| ||y|| cos(theta)\n",
    "* othonormal orthogonal and have unit length of 1\n",
    "* the dot product tells the difference in angle bewteen two vectors \n",
    "* the rotation of the coordinates can be used for spactial navigation in virtual reality and games \n",
    "* centering dta: tranlating the archery to origin by computingthe deviations \n",
    "* the matrix of deiviations == take the mean of each column and minus each data in each column by the mean column computed \n",
    "* variance: the usm of the variance of x = sum(x-Xmean)^2/n what is the average leangth of one of thoes vectors\n",
    "* co-variance = sigma ^2 kl= Dk * Dl = sum{(Xk-Mean Xk)*(that of l)}\n",
    "* sigma k = suqare root (dk * dk)\n",
    "* sigma l = \n",
    "* correlation of cofficien = sigma kl/ sigma k * sigma l\n",
    "* Dk * Dl = ||Dk ||*||Dl|| cos(thetakl) "
   ]
  },
  {
   "cell_type": "markdown",
   "metadata": {},
   "source": [
    "### how to use a low demiensional space to include multi dimensions' data and retian all the statistaical power the orgian lspace has. (thinking about how camera works )"
   ]
  }
 ],
 "metadata": {
  "language_info": {
   "name": "python"
  },
  "orig_nbformat": 4
 },
 "nbformat": 4,
 "nbformat_minor": 2
}
