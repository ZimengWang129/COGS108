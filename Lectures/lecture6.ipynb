{
 "cells": [
  {
   "cell_type": "markdown",
   "metadata": {},
   "source": [
    "###\n",
    "* 0-2 delta\n",
    "* 3-7/8 theta \n",
    "* 8-12 alpha \n",
    "* 12-30 beta\n",
    "* 30 to beyond (50+ depending on the subject being measured) gamma \n",
    "### data filter \n",
    "* delta: slow signal \n",
    "* dif frequency range \n",
    "### alpha-band oscillaiton \n",
    "* considered as the frequency at rest \n",
    "* alpha dessynchronization and attention \n",
    "    * the alphs TSE will be stronger with the side you are paying attention to and it is robust for all the lobes for various kinds of tasks \n",
    "* 10HZ rhythm synchronizing. a frequency that are geenrated all over the brain whenever there is an activation \n",
    "* gamma rythm ;object representation \n",
    "    * gamma-band oscillation \n",
    "    * electrodes cat visaul cortex -- visual cells will coordinate/ oscilate to represent the object by two cells are different parts of a same cells \n",
    "### beta-band oscillations -- motor functions \n",
    "* piror to the onset of movement there will be a big burst of beat-band movement -- the movemtn palnning is happening \n",
    "* it disappeards when the motor is operated --- the choice can also be detected  e.g. reading out which motor cortex is activated e.g. imagining opening and closing your right hand/ left hand and in this case it will only involove the burst since the action is not produced. \n",
    "### theta-band oscillation -- memory \n",
    "* it is always there \n",
    "* consciousness \n",
    "* both in human and animals \n",
    "* if I take a human being and I have them do some memory coding and retreiving \n",
    "* it will couple with gamma: one phase of burst of gamma and then quiet phase\n",
    "* hipposcampus interact with cortex to reterive memory \n",
    "* every gamma burst is the event of the rodent trying to memory when the recall the memory, the sepecific cell will produce the gamma band oscillation that coded the memory \n"
   ]
  },
  {
   "cell_type": "markdown",
   "metadata": {},
   "source": [
    "### event-related potential \n",
    "* peak amplitutde \n",
    "* peak latency \n",
    "* onset/slope \n"
   ]
  }
 ],
 "metadata": {
  "kernelspec": {
   "display_name": "Python 3.9.6 64-bit",
   "language": "python",
   "name": "python3"
  },
  "language_info": {
   "name": "python",
   "version": "3.9.6"
  },
  "orig_nbformat": 4,
  "vscode": {
   "interpreter": {
    "hash": "31f2aee4e71d21fbe5cf8b01ff0e069b9275f58929596ceb00d14d90e3e16cd6"
   }
  }
 },
 "nbformat": 4,
 "nbformat_minor": 2
}
